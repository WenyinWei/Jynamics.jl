{
 "cells": [
  {
   "cell_type": "code",
   "execution_count": null,
   "id": "5b4e6548",
   "metadata": {},
   "outputs": [],
   "source": [
    "import DifferentialEquations as DE"
   ]
  },
  {
   "cell_type": "code",
   "execution_count": null,
   "id": "9c83526a",
   "metadata": {},
   "outputs": [],
   "source": [
    "datapath = \"D:\\\\MCFdata\\\\w7x\\\\\"\n",
    "println( Threads.nthreads() )\n",
    "using Jynamics\n",
    "using TensorCast"
   ]
  },
  {
   "cell_type": "code",
   "execution_count": null,
   "id": "3b701368-f5b1-461d-a87a-daa1ed8c6def",
   "metadata": {},
   "outputs": [],
   "source": [
    "rminb = 4.0;\n",
    "rmaxb = 7.0;\n",
    "zminb = -1.5;\n",
    "zmaxb = 1.5;\n",
    "nSym = 5;\n",
    "\n",
    "R = collect( range(rminb, stop=rmaxb, length=128) );\n",
    "Z = collect( range(zminb, stop=zmaxb, length=128) );\n",
    "Phi = collect( range(0.0, stop=2pi/nSym, length=65) );\n"
   ]
  },
  {
   "cell_type": "code",
   "execution_count": null,
   "id": "a0e121a8-27cb-4f1b-b8e7-9ee81db3cebe",
   "metadata": {},
   "outputs": [],
   "source": [
    "BR = Array{Float64,3}(undef, 128, 128, 65);\n",
    "BZ = Array{Float64,3}(undef, 128, 128, 65);\n",
    "BPhi = Array{Float64,3}(undef, 128, 128, 65);\n",
    "BR_pert = Array{Float64,3}(undef, 128, 128, 65);\n",
    "BZ_pert = Array{Float64,3}(undef, 128, 128, 65);\n",
    "BPhi_pert = Array{Float64,3}(undef, 128, 128, 65);\n",
    "\n",
    "using NPZ\n",
    "Bfield_np = npzread(datapath * \"w7x-op21-standard.npy\");\n",
    "Bfield_pert_np = npzread(datapath * \"w7x-op21-controlCoils1.npy\");"
   ]
  },
  {
   "cell_type": "code",
   "execution_count": null,
   "id": "fa2a0eed-ae16-48e2-b375-396a3aefd846",
   "metadata": {},
   "outputs": [],
   "source": [
    "for iPhi = 1:length(Phi)-1\n",
    "    BR[:,:,iPhi] = Bfield_np[:,:,iPhi,1];\n",
    "    BZ[:,:,iPhi] = Bfield_np[:,:,iPhi,2];\n",
    "    BPhi[:,:,iPhi] = Bfield_np[:,:,iPhi,3];\n",
    "end\n",
    "BR[:,:,end] = Bfield_np[:,:,1,1];\n",
    "BZ[:,:,end] = Bfield_np[:,:,1,2];\n",
    "BPhi[:,:,end] = Bfield_np[:,:,1,3];\n",
    "\n",
    "B_unperturbed = CylindricalVectorField(R, Z, Phi, BR, BZ, BPhi; nSym=nSym);\n"
   ]
  },
  {
   "cell_type": "code",
   "execution_count": null,
   "id": "cf6e782f",
   "metadata": {},
   "outputs": [],
   "source": [
    "for iPhi = 1:length(Phi)-1\n",
    "    BR_pert[:,:,iPhi] = Bfield_pert_np[:,:,iPhi,1];\n",
    "    BZ_pert[:,:,iPhi] = Bfield_pert_np[:,:,iPhi,2];\n",
    "    BPhi_pert[:,:,iPhi] = Bfield_pert_np[:,:,iPhi,3];\n",
    "end\n",
    "BR_pert[:,:,end] = Bfield_pert_np[:,:,1,1];\n",
    "BZ_pert[:,:,end] = Bfield_pert_np[:,:,1,2];\n",
    "BPhi_pert[:,:,end] = Bfield_pert_np[:,:,1,3];\n",
    "\n",
    "B_pert = CylindricalVectorField(R, Z, Phi, BR_pert, BZ_pert, BPhi_pert; nSym=5);\n",
    "# B_pert = 0.2*B_pert"
   ]
  },
  {
   "cell_type": "code",
   "execution_count": null,
   "id": "b5de4fd2",
   "metadata": {},
   "outputs": [],
   "source": [
    "B_total = B_unperturbed + B_pert"
   ]
  },
  {
   "cell_type": "code",
   "execution_count": null,
   "id": "a13e5e7d",
   "metadata": {},
   "outputs": [],
   "source": [
    "import DifferentialEquations as DE"
   ]
  },
  {
   "cell_type": "code",
   "execution_count": null,
   "id": "2d9abf16",
   "metadata": {},
   "outputs": [],
   "source": [
    "# using GridInterpolations\n",
    "using Interpolations"
   ]
  },
  {
   "cell_type": "code",
   "execution_count": null,
   "id": "db011f8e",
   "metadata": {},
   "outputs": [],
   "source": []
  },
  {
   "cell_type": "code",
   "execution_count": null,
   "id": "bc14b2b4",
   "metadata": {},
   "outputs": [],
   "source": [
    "\n",
    "BR_interp = linear_interpolation((R,Z,Phi), BR);\n",
    "BZ_interp = linear_interpolation((R,Z,Phi), BZ);\n",
    "BPhi_interp = linear_interpolation((R,Z,Phi), BPhi);"
   ]
  },
  {
   "cell_type": "code",
   "execution_count": null,
   "id": "462aa147",
   "metadata": {},
   "outputs": [],
   "source": [
    "using TensorCast\n",
    "using Memoization"
   ]
  },
  {
   "cell_type": "code",
   "execution_count": null,
   "id": "141f2e6f",
   "metadata": {},
   "outputs": [],
   "source": [
    "@cast RBRoBPhi[iR,iZ,iPhi] := R[iR] * BR[iR,iZ,iPhi] / BPhi[iR,iZ,iPhi];\n",
    "@cast RBZoBPhi[iR,iZ,iPhi] := R[iR] * BZ[iR,iZ,iPhi] / BPhi[iR,iZ,iPhi];"
   ]
  },
  {
   "cell_type": "code",
   "execution_count": null,
   "id": "813f0aab",
   "metadata": {},
   "outputs": [],
   "source": [
    "size(RBRoBPhi)"
   ]
  },
  {
   "cell_type": "code",
   "execution_count": null,
   "id": "5fcc27a1",
   "metadata": {},
   "outputs": [],
   "source": [
    "dR = R[2] - R[1]\n",
    "dZ = Z[2] - Z[1]\n",
    "\n",
    "        "
   ]
  },
  {
   "cell_type": "code",
   "execution_count": null,
   "id": "2d1adaf8",
   "metadata": {},
   "outputs": [],
   "source": [
    "\n",
    "FLT_A =  RVpoloVPhi_pRpZ_interp(B_unperturbed)"
   ]
  },
  {
   "cell_type": "code",
   "execution_count": null,
   "id": "f32e11d7",
   "metadata": {},
   "outputs": [],
   "source": [
    "FLT_A(5.0, 0.0, 0.0)"
   ]
  },
  {
   "cell_type": "code",
   "execution_count": null,
   "id": "e90e9ff6-d827-4bbf-9ea5-82bfdd1260d7",
   "metadata": {},
   "outputs": [],
   "source": []
  },
  {
   "cell_type": "code",
   "execution_count": null,
   "id": "01fdacdd",
   "metadata": {},
   "outputs": [],
   "source": []
  },
  {
   "cell_type": "code",
   "execution_count": null,
   "id": "61fe38a1-47cd-464d-bdad-c4c30593dae3",
   "metadata": {},
   "outputs": [],
   "source": [
    "condition(x,t,integrator) = x[1]>R[end-3] || x[1] < R[3] || x[2] >Z[end-3] || x[2] < Z[3]\n",
    "affect!(integrator) = DE.terminate!(integrator)\n",
    "cb = DE.DiscreteCallback(condition,affect!)"
   ]
  },
  {
   "cell_type": "code",
   "execution_count": null,
   "id": "a9ceacd7-caa4-4ea0-86b7-dc63ac9ad180",
   "metadata": {},
   "outputs": [],
   "source": [
    "import DifferentialEquations as DE\n",
    "import LinearAlgebra as LA\n",
    "\n"
   ]
  },
  {
   "cell_type": "code",
   "execution_count": null,
   "id": "2342e333-9dd5-4728-8bc2-9c10b995f0aa",
   "metadata": {
    "scrolled": true
   },
   "outputs": [],
   "source": [
    "# X-points of the edge island chain\n",
    "# cyc_init_rzphi = lookfor_cycle(B_unperturbed, [6.05; 0.6; 0.0])\n",
    "# cyc_init_rzphi = lookfor_cycle(0.0, [6.05;-0.6; 0.0])\n",
    "# cyc_init_rzphi = lookfor_cycle(0.0, [5.5; 0.8; 0.0])\n",
    "# cyc_init_rzphi = lookfor_cycle(0.0, [5.5;-0.8; 0.0])\n",
    "# cyc_init_rzphi = lookfor_cycle(0.0, [5.7; 0.0; 0.0])\n",
    "\n",
    "# O-point of the magnetic axis\n",
    "cyc_init_rzphi = lookfor_cycle(B_unperturbed, [5.92; 0.0; 0.0])"
   ]
  },
  {
   "cell_type": "code",
   "execution_count": null,
   "id": "86914c3a-a3d4-4458-8e26-4d2b729cd53c",
   "metadata": {
    "scrolled": true
   },
   "outputs": [],
   "source": [
    "phi = cyc_init_rzphi[3]\n",
    "tor_turn = 1\n",
    "tspan = (phi, phi + tor_turn*2pi)\n",
    "\n",
    "sols_dict = create_tracing_sols_Dict(B_unperturbed, cyc_init_rzphi[1:2], cyc_init_rzphi[3])\n",
    "\n",
    "prob_Xpol = DE.ODEProblem(dXpol_dphi!_generator(sols_dict), cyc_init_rzphi[1:2], tspan)\n",
    "sol_Xpol = DE.solve(prob_Xpol, DE.RK4(), \n",
    "    abstol=1e-9, reltol=1e-6, maxiters=1e9, dt=pi/128, callback=cb) \n",
    "sols_dict[\"sol_Xpol\"] = sol_Xpol\n",
    "\n",
    "prob_DXpol = DE.ODEProblem(dDXpol_dphi!_generator(sols_dict), [1 0; 0 1], tspan)\n",
    "# prob_DXpol = DE.ODEProblem(dDXpol_dphi!, [1 0; 0 1], tspan, [sol_Xpol,])\n",
    "sol_DXpol = DE.solve(prob_DXpol, DE.RK4(), \n",
    "    abstol=1e-9, reltol=1e-6, maxiters=1e9, dt=pi/128,)\n",
    "sols_dict[\"sol_DXpol\"] = sol_DXpol"
   ]
  },
  {
   "cell_type": "code",
   "execution_count": null,
   "id": "b20c24c9-c9fb-4309-807d-6ff46d191e30",
   "metadata": {
    "scrolled": true
   },
   "outputs": [],
   "source": [
    "\n",
    "prob_DPm = DE.ODEProblem(dDPm_dphi!_generator(sols_dict), sol_DXpol(tspan[2]), tspan,)\n",
    "sol_DPm = DE.solve(prob_DPm, DE.RK4(), \n",
    "    abstol=1e-9, reltol=1e-6, maxiters=1e9, dt=pi/128,)\n",
    "sols_dict[\"sol_DPm\"] = sol_DPm"
   ]
  },
  {
   "cell_type": "code",
   "execution_count": null,
   "id": "63567c70-ec72-4e8d-a4fc-f75db202ee1c",
   "metadata": {
    "scrolled": true
   },
   "outputs": [],
   "source": [
    "\n",
    "sols_dict[\"delta_v\"] = B_pert\n",
    "prob_delta_Xpol = DE.ODEProblem(d_delta_Xpol_dphi!_generator(sols_dict), [0;0], tspan)\n",
    "sol_delta_Xpol = DE.solve(prob_delta_Xpol, DE.RK4(), \n",
    "    abstol=1e-9, reltol=1e-6, maxiters=1e9, dt=pi/128,)\n",
    "sols_dict[\"sol_delta_Xpol\"] = sol_delta_Xpol"
   ]
  },
  {
   "cell_type": "code",
   "execution_count": null,
   "id": "38236b0f-7679-480b-aa92-e1a4eedd0d81",
   "metadata": {},
   "outputs": [],
   "source": [
    "Xcyc_init_delta_Delta = LA.inv( sol_DPm(phi) - LA.I(2) ) * (- sol_delta_Xpol(2pi) )"
   ]
  },
  {
   "cell_type": "code",
   "execution_count": null,
   "id": "88093b6a-249a-4e9e-b07a-d06811ae695d",
   "metadata": {
    "scrolled": true
   },
   "outputs": [],
   "source": [
    "\n",
    "prob_delta_Xcyc = DE.ODEProblem(d_delta_Xcyc_dphi!_generator(sols_dict), Xcyc_init_delta_Delta, tspan)\n",
    "sol_delta_Xcyc = DE.solve(prob_delta_Xcyc, DE.RK4(), \n",
    "    abstol=1e-9, reltol=1e-6, maxiters=1e9, dt=pi/128,)\n",
    "sols_dict[\"sol_delta_Xcyc\"] = sol_delta_Xcyc"
   ]
  },
  {
   "cell_type": "code",
   "execution_count": null,
   "id": "d3391c32-a1fd-4f61-b2f8-bbc829e49ba0",
   "metadata": {},
   "outputs": [],
   "source": [
    "phi = cyc_init_rzphi[3]\n",
    "tor_turn = 800\n",
    "tspan = (phi, phi + tor_turn*2pi)\n",
    "\n",
    "flux_surface_dicts = [create_tracing_sols_Dict(B_unperturbed, \n",
    "    [cyc_init_rzphi[1]+dR, cyc_init_rzphi[2]], cyc_init_rzphi[3]) for dR in 0.09:0.06:0.26]\n",
    "for dict in flux_surface_dicts\n",
    "    dict[\"axrz\"] = cyc_init_rzphi[1:2]\n",
    "end\n",
    "trajN = length(flux_surface_dicts)\n",
    "\n",
    "using Base.Threads: @threads\n",
    "@threads for traj_i in 1:trajN\n",
    "    local prob_Xpol = DE.ODEProblem(dXpol_dphi!_generator(flux_surface_dicts[traj_i]), flux_surface_dicts[traj_i][\"r0z0\"], tspan)\n",
    "    flux_surface_dicts[traj_i][\"sol_Xpol\"] = DE.solve(prob_Xpol, DE.RK4(), \n",
    "        abstol=1e-9, reltol=1e-6, maxiters=1e9, dt=pi/128, callback=cb) \n",
    "\n",
    "    local prob_DXpol = DE.ODEProblem(dDXpol_dphi!_generator(flux_surface_dicts[traj_i]), [1 0; 0 1], tspan)\n",
    "    flux_surface_dicts[traj_i][\"sol_DXpol\"] = DE.solve(prob_DXpol, DE.RK4(), \n",
    "        abstol=1e-9, reltol=1e-6, maxiters=1e9, dt=pi/128,)\n",
    "\n",
    "    flux_surface_dicts[traj_i][\"delta_v\"] = B_pert\n",
    "    local prob_delta_Xpol = DE.ODEProblem(d_delta_Xpol_dphi!_generator(flux_surface_dicts[traj_i]), [0;0], tspan)\n",
    "    flux_surface_dicts[traj_i][\"sol_delta_Xpol\"] = DE.solve(prob_delta_Xpol, DE.RK4(), \n",
    "        abstol=1e-9, reltol=1e-6, maxiters=1e9, dt=pi/128,)\n",
    "end\n"
   ]
  },
  {
   "cell_type": "code",
   "execution_count": null,
   "id": "956f1486",
   "metadata": {},
   "outputs": [],
   "source": [
    "traj_i = 1\n",
    "scatxy = reduce( hcat, [flux_surface_dicts[traj_i][\"sol_Xpol\"](t) for t in flux_surface_dicts[traj_i][\"sol_Xpol\"].t[1]:2pi:flux_surface_dicts[traj_i][\"sol_Xpol\"].t[end]] )\n",
    "ans = find_Delta_theta(scatxy, cyc_init_rzphi[1:2])"
   ]
  },
  {
   "cell_type": "code",
   "execution_count": null,
   "id": "34ec7631",
   "metadata": {},
   "outputs": [],
   "source": [
    "length(flux_surface_dicts)"
   ]
  },
  {
   "cell_type": "code",
   "execution_count": null,
   "id": "10ebc8a8-7467-4bc9-8c64-edcc25a9900e",
   "metadata": {},
   "outputs": [],
   "source": [
    "import Plots\n",
    "Plots.plot(aspect_ratio=1.0, size=(600,1000))\n",
    "\n",
    "for traj_i in 1:trajN\n",
    "    scatxy = reduce( hcat, [flux_surface_dicts[traj_i][\"sol_Xpol\"](t) for t in flux_surface_dicts[traj_i][\"sol_Xpol\"].t[1]:2pi:flux_surface_dicts[traj_i][\"sol_Xpol\"].t[end]]  )\n",
    "    scatx, scaty = scatxy[1,:], scatxy[2,:]\n",
    "    Plots.scatter!(scatx, scaty, ms=0.2)\n",
    "end\n",
    "Plots.scatter!()"
   ]
  },
  {
   "cell_type": "code",
   "execution_count": null,
   "id": "0d91fb00",
   "metadata": {},
   "outputs": [],
   "source": []
  },
  {
   "cell_type": "code",
   "execution_count": null,
   "id": "a51a49bd",
   "metadata": {},
   "outputs": [],
   "source": [
    "traj_i = 1\n",
    "Nfourier = 10\n",
    "a0_R, an_R, bn_R, a0_Z, an_Z, bn_Z = find_delta_chi_fourier_series(flux_surface_dicts[traj_i], sols_dict[\"sol_delta_Xcyc\"](0.0)[2], Nfourier)\n",
    "scatxy = reduce( hcat, [flux_surface_dicts[traj_i][\"sol_Xpol\"](t) for t in flux_surface_dicts[traj_i][\"sol_Xpol\"].t[1]:2pi:flux_surface_dicts[traj_i][\"sol_Xpol\"].t[end]] )\n",
    "Δθ = find_Delta_theta(scatxy, cyc_init_rzphi[1:2])\n",
    "print(\"Δθ = \", Δθ, \"\\n\")\n",
    "\n",
    "perturbed_flux_surface_dict = create_tracing_sols_Dict(B_total, \n",
    "    flux_surface_dicts[traj_i][\"r0z0\"] \n",
    "    + [fourier_series(0.0, a0_R, an_R, bn_R), fourier_series(0.0, a0_Z, an_Z, bn_Z)], \n",
    "    0.0)\n",
    "perturbed_flux_surface_dict[\"axrz\"] = cyc_init_rzphi[1:2]+sols_dict[\"sol_delta_Xcyc\"](0.0)\n",
    "prob_Xpol = DE.ODEProblem(dXpol_dphi!_generator(perturbed_flux_surface_dict), perturbed_flux_surface_dict[\"r0z0\"], tspan)\n",
    "perturbed_flux_surface_dict[\"sol_Xpol\"] = DE.solve(prob_Xpol, DE.RK4(), \n",
    "    abstol=1e-9, reltol=1e-6, maxiters=1e9, dt=pi/128, callback=cb) \n",
    "scatxy = reduce( hcat, [perturbed_flux_surface_dict[\"sol_Xpol\"](t) for t in perturbed_flux_surface_dict[\"sol_Xpol\"].t[1]:2pi:perturbed_flux_surface_dict[\"sol_Xpol\"].t[end]] )\n",
    "Δθ_perturbed = find_Delta_theta(scatxy, cyc_init_rzphi[1:2]+sols_dict[\"sol_delta_Xcyc\"](0.0))\n",
    "print(\"Δθ_perturbed = \", Δθ_perturbed, \"\\n\")\n",
    "print(sols_dict[\"sol_delta_Xcyc\"](0.0)[2], \"\\n\",  )\n",
    "print(fourier_series(0.0, a0_Z, an_Z, bn_Z))\n",
    "# Plots.plot(0:0.01:2pi, [fourier_series(θ, a0_R, an_R, bn_R) for θ in 0:0.01:2pi], linestyle=:dash)\n",
    "# Plots.plot(0:0.01:2pi, [fourier_series(θ, a0_Z, an_Z, bn_Z) for θ in 0:0.01:2pi], linestyle=:dash)\n",
    "\n",
    "# Nfourier = 10\n",
    "# a0_R, an_R, bn_R, a0_Z, an_Z, bn_Z = find_chi_fourier_series(flux_surface_dicts[traj_i], Nfourier)\n",
    "# Plots.plot!(0:0.01:2pi, [fourier_series(θ, a0_R, an_R, bn_R) for θ in 0:0.01:2pi])\n",
    "# Plots.plot!(0:0.01:2pi, [fourier_series(θ, a0_Z, an_Z, bn_Z) for θ in 0:0.01:2pi])\n",
    "# a0_R, an_R, bn_R, a0_Z, an_Z, bn_Z = find_chi_fourier_series(perturbed_flux_surface_dict, Nfourier)\n",
    "# # Plots.plot!(0:0.01:2pi, [fourier_series(θ, a0_R, an_R, bn_R) for θ in 0:0.01:2pi])\n",
    "# # Plots.plot!(0:0.01:2pi, [fourier_series(θ, a0_Z, an_Z, bn_Z) for θ in 0:0.01:2pi])\n",
    "# a0_R, an_R, bn_R, a0_Z, an_Z, bn_Z = find_chi_fourier_series(perturbed_flux_surface_dict, Nfourier) .- find_chi_fourier_series(flux_surface_dicts[traj_i], Nfourier)\n",
    "# print(\"delta_chi_z:\", fourier_series(0.0, a0_Z, an_Z, bn_Z))\n",
    "# Plots.plot!(0:0.01:2pi, [fourier_series(θ, a0_R, an_R, bn_R) for θ in 0:0.01:2pi])\n",
    "# Plots.plot!(0:0.01:2pi, [fourier_series(θ, a0_Z, an_Z, bn_Z) for θ in 0:0.01:2pi])\n"
   ]
  },
  {
   "cell_type": "code",
   "execution_count": null,
   "id": "74f08cb9",
   "metadata": {},
   "outputs": [],
   "source": [
    "evolve_deltaX_dict = create_tracing_sols_Dict(B_unperturbed, flux_surface_dicts[traj_i][\"r0z0\"], 0.0)\n",
    "evolve_deltaX_dict[\"delta_v\"] = B_pert\n",
    "Nfourier = 10\n",
    "a0_R_fs, an_R_fs, bn_R_fs, a0_Z_fs, an_Z_fs, bn_Z_fs = find_chi_fourier_series(flux_surface_dicts[traj_i], Nfourier)\n",
    "\n",
    "phi = 0.0\n",
    "tspan = (phi, phi + 2pi/5)\n",
    "\n",
    "_Theta = collect( range(0, stop=2pi, length=500) )\n",
    "_Phi = collect( range(0, stop=2pi/5, length=5) )\n",
    "\n",
    "deltaX_ThetaPhi = Array{Float64,3}(undef, length(_Theta), length(_Phi), 2)\n",
    "X_ThetaPhi = Array{Float64,3}(undef, length(_Theta), length(_Phi), 2)\n",
    "\n",
    "for iTheta in 1:length(_Theta)\n",
    "    ϑ = _Theta[iTheta]\n",
    "\n",
    "    x0rz = [fourier_series(ϑ, a0_R_fs, an_R_fs, bn_R_fs), fourier_series(ϑ, a0_Z_fs, an_Z_fs, bn_Z_fs)]\n",
    "    deltaX_init = [fourier_series(ϑ, a0_R, an_R, bn_R), fourier_series(ϑ, a0_Z, an_Z, bn_Z)]\n",
    "    evolve_deltaX_dict[\"r0z0\"] = x0rz\n",
    "    \n",
    "    prob_Xpol = DE.ODEProblem(dXpol_dphi!_generator(evolve_deltaX_dict), x0rz, tspan)\n",
    "    evolve_deltaX_dict[\"sol_Xpol\"] = DE.solve(prob_Xpol, DE.RK4(), \n",
    "        abstol=1e-9, reltol=1e-6, maxiters=1e9, dt=pi/128, callback=cb) \n",
    "    for (iPhi, phi) in enumerate(_Phi)\n",
    "        X_ThetaPhi[iTheta, iPhi, :] .= evolve_deltaX_dict[\"sol_Xpol\"](phi)\n",
    "    end\n",
    "    prob_delta_Xpol = DE.ODEProblem(d_delta_Xpol_dphi!_generator(evolve_deltaX_dict), deltaX_init, tspan)\n",
    "    sol_delta_Xpol = DE.solve(prob_delta_Xpol, DE.RK4(), \n",
    "        abstol=1e-9, reltol=1e-6, maxiters=1e9, dt=pi/128,)\n",
    "    for (iPhi, phi) in enumerate(_Phi)\n",
    "        deltaX_ThetaPhi[iTheta, iPhi, :] .= sol_delta_Xpol(phi)\n",
    "    end\n",
    "end\n"
   ]
  },
  {
   "cell_type": "code",
   "execution_count": null,
   "id": "351475cc",
   "metadata": {},
   "outputs": [],
   "source": [
    "using NPZ\n",
    "\n",
    "# 打包保存到 npz 文件\n",
    "npzwrite(\"w7x_standard_configuration_flux_surface_deformation.npz\", Dict(\n",
    "    \"Theta\" => _Theta,\n",
    "    \"Phi\" => _Phi,\n",
    "    \"deltaX_ThetaPhi\" => deltaX_ThetaPhi,\n",
    "    \"X_ThetaPhi\" => X_ThetaPhi\n",
    "))\n"
   ]
  },
  {
   "cell_type": "code",
   "execution_count": null,
   "id": "8f06feab-0892-4389-9984-871b13054284",
   "metadata": {},
   "outputs": [],
   "source": [
    "\n",
    "VectorMatrix2Array(sol_DPm.u)[1,:,:]"
   ]
  },
  {
   "cell_type": "code",
   "execution_count": null,
   "id": "57a836df-3384-4e0d-acf5-1b3378274fe6",
   "metadata": {},
   "outputs": [],
   "source": [
    "using HDF5\n",
    "h5open(datapath * \"w7x_standard_cycle1.h5\", \"w\") do fid\n",
    "    g = create_group(fid, \"cyc\")\n",
    "    g[\"Xpol_t\"] = sol_Xpol.t\n",
    "    g[\"Xpol\"] = VectorVector2Array(sol_Xpol.u)\n",
    "    g[\"DXpol_t\"] = sol_DXpol.t\n",
    "    g[\"DXpol\"] = VectorMatrix2Array(sol_DXpol.u)\n",
    "    g[\"DPm_t\"] = sol_DPm.t\n",
    "    g[\"DPm\"] = VectorMatrix2Array(sol_DPm.u)\n",
    "    g[\"delta_Xcyc_t\"] = sol_delta_Xcyc.t\n",
    "    g[\"delta_Xcyc\"] = VectorVector2Array(sol_delta_Xcyc.u)\n",
    "    # g[\"delta_DXpol_init_Xcyc_t\"] = sol_delta_DXpol_init_Xcyc.t\n",
    "    # g[\"delta_DXpol_init_Xcyc\"] = VectorMatrix2Array(sol_delta_DXpol_init_Xcyc.u)\n",
    "    g[\"ddB_DPm_with_init_Xcyc_shift_t\"] = sol_ddB_DPm_with_init_Xcyc_shift.t\n",
    "    g[\"ddB_DPm_with_init_Xcyc_shift\"] = VectorMatrix2Array(sol_ddB_DPm_with_init_Xcyc_shift.u)\n",
    "end;"
   ]
  },
  {
   "cell_type": "code",
   "execution_count": null,
   "id": "e0da2d06-7780-41ca-bb58-921fb838448c",
   "metadata": {},
   "outputs": [],
   "source": []
  },
  {
   "cell_type": "code",
   "execution_count": null,
   "id": "e8b07a54-681d-412b-aeea-27abae3efb5b",
   "metadata": {},
   "outputs": [],
   "source": []
  },
  {
   "cell_type": "code",
   "execution_count": null,
   "id": "fd68ec71-524a-4d16-8507-5395d451f77c",
   "metadata": {},
   "outputs": [],
   "source": []
  },
  {
   "cell_type": "code",
   "execution_count": null,
   "id": "5be4fd32",
   "metadata": {},
   "outputs": [],
   "source": []
  }
 ],
 "metadata": {
  "kernelspec": {
   "display_name": "Julia 1.10.5",
   "language": "julia",
   "name": "julia-1.10"
  },
  "language_info": {
   "file_extension": ".jl",
   "mimetype": "application/julia",
   "name": "julia",
   "version": "1.10.5"
  }
 },
 "nbformat": 4,
 "nbformat_minor": 5
}
