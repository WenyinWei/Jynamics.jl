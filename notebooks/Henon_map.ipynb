{
 "cells": [
  {
   "cell_type": "code",
   "execution_count": null,
   "id": "f665aceb",
   "metadata": {},
   "outputs": [],
   "source": [
    "import DifferentialEquations as DE\n",
    "println( Threads.nthreads() )"
   ]
  },
  {
   "cell_type": "code",
   "execution_count": null,
   "id": "41c54b5d",
   "metadata": {},
   "outputs": [],
   "source": [
    "\n",
    "trajN = 40\n",
    "\n",
    "K = [-0.17197997940,];\n",
    "0.5*(-1.0+sqrt(1+4*K[1]))"
   ]
  },
  {
   "cell_type": "markdown",
   "id": "959aa140",
   "metadata": {},
   "source": [
    "## Hénon map\n",
    "$x^{\\prime}=-y + 2(K-x^2)$\n",
    "\n",
    "$y^{\\prime}=x$"
   ]
  },
  {
   "cell_type": "code",
   "execution_count": null,
   "id": "81287dc5",
   "metadata": {},
   "outputs": [],
   "source": [
    "function Henon_map!(x_new,x,K,t)\n",
    "    x_new[1] = -x[2] + 2*(K[1]-x[1]^2)\n",
    "    x_new[2] = x[1]\n",
    "    nothing\n",
    "end\n",
    "\n",
    "x0s = Array{Float64,2}(undef, trajN, 2);\n",
    "x0s[:,1] = range(-0.6, stop=0.0, length=trajN);\n",
    "x0s[:,2] = range(-0.6, stop=0.0, length=trajN);\n",
    "\n",
    "tspan = (0, 200)\n",
    "# Henon_func= DE.DiscreteFunction(Henon_map!; jac=Henon_map_jac!)\n",
    "Henon_prob = DE.DiscreteProblem(Henon_map!, x0s[1,:], tspan, K)\n",
    "\n",
    "function prob_func(prob, i, repeat)\n",
    "    DE.remake(prob, u0=x0s[i,:])\n",
    "end\n",
    "Henon_probs = DE.EnsembleProblem(Henon_prob, prob_func=prob_func)"
   ]
  },
  {
   "cell_type": "code",
   "execution_count": null,
   "id": "7b0e5a17",
   "metadata": {},
   "outputs": [],
   "source": [
    "Henon_sols = DE.solve(\n",
    "    Henon_probs, DE.EnsembleThreads(), trajectories=trajN,)"
   ]
  },
  {
   "cell_type": "code",
   "execution_count": 7,
   "id": "35a5aee5",
   "metadata": {},
   "outputs": [],
   "source": [
    "Js = [zeros(2,2) for i in (1:trajN)]\n",
    "for i = 1:trajN\n",
    "    Js[i][1,2] =-1.0\n",
    "    Js[i][2,1] = 1.0\n",
    "    Js[i][2,2] = 0.0\n",
    "end"
   ]
  },
  {
   "cell_type": "code",
   "execution_count": null,
   "id": "6076df19",
   "metadata": {},
   "outputs": [],
   "source": [
    "\n",
    "function Henon_map_jac!(DT_new,DT, trajNo, t)\n",
    "    Js[trajNo][1,1] = -2.0*Henon_sols[trajNo].u[t][1]\n",
    "    # J[1,2] = -1.0\n",
    "    # J[2,1] = 1.0\n",
    "    # J[2,2] = 0.0\n",
    "    \n",
    "    DT_new[:,:] = Js[trajNo]*DT\n",
    "    nothing\n",
    "end"
   ]
  },
  {
   "cell_type": "code",
   "execution_count": null,
   "id": "ec2b7d6a",
   "metadata": {},
   "outputs": [],
   "source": [
    "\n",
    "DP0 = [1.0 0.0; 0.0 1.0]\n",
    "# Henon_func= DE.DiscreteFunction(Henon_map!; jac=Henon_map_jac!)\n",
    "Henon_jac_prob = DE.DiscreteProblem(Henon_map_jac!, DP0, tspan, K)\n",
    "\n",
    "function prob_func(prob, i, repeat)\n",
    "    DE.remake(prob, p=i,)\n",
    "end\n",
    "Henon_jac_probs = DE.EnsembleProblem(Henon_jac_prob, prob_func=prob_func)"
   ]
  },
  {
   "cell_type": "code",
   "execution_count": null,
   "id": "7a99c0a1",
   "metadata": {},
   "outputs": [],
   "source": [
    "Henon_jac_sols = DE.solve(Henon_jac_probs, DE.EnsembleThreads(), trajectories=trajN, )"
   ]
  },
  {
   "cell_type": "code",
   "execution_count": null,
   "id": "cbe2f0fc",
   "metadata": {},
   "outputs": [],
   "source": [
    "Henon_jac_sols[39]"
   ]
  }
 ],
 "metadata": {
  "kernelspec": {
   "display_name": "Julia 1.9.3",
   "language": "julia",
   "name": "julia-1.9"
  },
  "language_info": {
   "file_extension": ".jl",
   "mimetype": "application/julia",
   "name": "julia",
   "version": "1.9.3"
  }
 },
 "nbformat": 4,
 "nbformat_minor": 5
}
