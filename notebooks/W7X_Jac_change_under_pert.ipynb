{
 "cells": [
  {
   "cell_type": "code",
   "execution_count": 1,
   "id": "5b4e6548",
   "metadata": {},
   "outputs": [],
   "source": [
    "import DifferentialEquations as DE"
   ]
  },
  {
   "cell_type": "code",
   "execution_count": null,
   "id": "9c83526a",
   "metadata": {},
   "outputs": [],
   "source": [
    "datapath = \"D:\\\\MCFdata\\\\w7x\\\\\"\n",
    "println( Threads.nthreads() )\n",
    "using Jynamics\n",
    "using TensorCast"
   ]
  },
  {
   "cell_type": "code",
   "execution_count": 3,
   "id": "3b701368-f5b1-461d-a87a-daa1ed8c6def",
   "metadata": {},
   "outputs": [],
   "source": [
    "rminb = 4.0;\n",
    "rmaxb = 7.0;\n",
    "zminb = -1.5;\n",
    "zmaxb = 1.5;\n",
    "nSym = 5;\n",
    "\n",
    "R = collect( range(rminb, stop=rmaxb, length=128) );\n",
    "Z = collect( range(zminb, stop=zmaxb, length=128) );\n",
    "Phi = collect( range(0.0, stop=2pi/nSym, length=65) );\n"
   ]
  },
  {
   "cell_type": "code",
   "execution_count": 4,
   "id": "a0e121a8-27cb-4f1b-b8e7-9ee81db3cebe",
   "metadata": {},
   "outputs": [],
   "source": [
    "BR = Array{Float64,3}(undef, 128, 128, 65);\n",
    "BZ = Array{Float64,3}(undef, 128, 128, 65);\n",
    "BPhi = Array{Float64,3}(undef, 128, 128, 65);\n",
    "BR_pert = Array{Float64,3}(undef, 128, 128, 65);\n",
    "BZ_pert = Array{Float64,3}(undef, 128, 128, 65);\n",
    "BPhi_pert = Array{Float64,3}(undef, 128, 128, 65);\n",
    "\n",
    "using NPZ\n",
    "Bfield_np = npzread(datapath * \"w7x-op21-standard.npy\");\n",
    "Bfield_pert_np = npzread(datapath * \"w7x-op21-controlCoils1.npy\");"
   ]
  },
  {
   "cell_type": "code",
   "execution_count": 5,
   "id": "fa2a0eed-ae16-48e2-b375-396a3aefd846",
   "metadata": {},
   "outputs": [],
   "source": [
    "for iPhi = 1:length(Phi)-1\n",
    "    BR[:,:,iPhi] = Bfield_np[:,:,iPhi,1];\n",
    "    BZ[:,:,iPhi] = Bfield_np[:,:,iPhi,2];\n",
    "    BPhi[:,:,iPhi] = Bfield_np[:,:,iPhi,3];\n",
    "end\n",
    "BR[:,:,end] = Bfield_np[:,:,1,1];\n",
    "BZ[:,:,end] = Bfield_np[:,:,1,2];\n",
    "BPhi[:,:,end] = Bfield_np[:,:,1,3];\n",
    "\n",
    "B_unperturbed = CylindricalVectorField(R, Z, Phi, BR, BZ, BPhi; nSym=nSym);\n"
   ]
  },
  {
   "cell_type": "code",
   "execution_count": 6,
   "id": "cf6e782f",
   "metadata": {},
   "outputs": [],
   "source": [
    "for iPhi = 1:length(Phi)-1\n",
    "    BR_pert[:,:,iPhi] = Bfield_pert_np[:,:,iPhi,1];\n",
    "    BZ_pert[:,:,iPhi] = Bfield_pert_np[:,:,iPhi,2];\n",
    "    BPhi_pert[:,:,iPhi] = Bfield_pert_np[:,:,iPhi,3];\n",
    "end\n",
    "BR_pert[:,:,end] = Bfield_pert_np[:,:,1,1];\n",
    "BZ_pert[:,:,end] = Bfield_pert_np[:,:,1,2];\n",
    "BPhi_pert[:,:,end] = Bfield_pert_np[:,:,1,3];\n",
    "\n",
    "B_pert = CylindricalVectorField(R, Z, Phi, BR_pert, BZ_pert, BPhi_pert; nSym=5);"
   ]
  },
  {
   "cell_type": "code",
   "execution_count": null,
   "id": "b5de4fd2",
   "metadata": {},
   "outputs": [],
   "source": [
    "B_total = B_unperturbed + B_pert"
   ]
  },
  {
   "cell_type": "code",
   "execution_count": 8,
   "id": "a13e5e7d",
   "metadata": {},
   "outputs": [],
   "source": [
    "import DifferentialEquations as DE"
   ]
  },
  {
   "cell_type": "code",
   "execution_count": 9,
   "id": "2d9abf16",
   "metadata": {},
   "outputs": [],
   "source": [
    "# using GridInterpolations\n",
    "using Interpolations"
   ]
  },
  {
   "cell_type": "code",
   "execution_count": 10,
   "id": "db011f8e",
   "metadata": {},
   "outputs": [],
   "source": []
  },
  {
   "cell_type": "code",
   "execution_count": 11,
   "id": "bc14b2b4",
   "metadata": {},
   "outputs": [],
   "source": [
    "\n",
    "BR_interp = linear_interpolation((R,Z,Phi), BR);\n",
    "BZ_interp = linear_interpolation((R,Z,Phi), BZ);\n",
    "BPhi_interp = linear_interpolation((R,Z,Phi), BPhi);"
   ]
  },
  {
   "cell_type": "code",
   "execution_count": 12,
   "id": "462aa147",
   "metadata": {},
   "outputs": [],
   "source": [
    "using TensorCast\n",
    "using Memoization"
   ]
  },
  {
   "cell_type": "code",
   "execution_count": 13,
   "id": "141f2e6f",
   "metadata": {},
   "outputs": [],
   "source": [
    "@cast RBRoBPhi[iR,iZ,iPhi] := R[iR] * BR[iR,iZ,iPhi] / BPhi[iR,iZ,iPhi];\n",
    "@cast RBZoBPhi[iR,iZ,iPhi] := R[iR] * BZ[iR,iZ,iPhi] / BPhi[iR,iZ,iPhi];"
   ]
  },
  {
   "cell_type": "code",
   "execution_count": null,
   "id": "813f0aab",
   "metadata": {},
   "outputs": [],
   "source": [
    "size(RBRoBPhi)"
   ]
  },
  {
   "cell_type": "code",
   "execution_count": null,
   "id": "5fcc27a1",
   "metadata": {},
   "outputs": [],
   "source": [
    "dR = R[2] - R[1]\n",
    "dZ = Z[2] - Z[1]\n",
    "\n",
    "        "
   ]
  },
  {
   "cell_type": "code",
   "execution_count": null,
   "id": "2d1adaf8",
   "metadata": {},
   "outputs": [],
   "source": [
    "\n",
    "FLT_A =  RVpoloVPhi_pRpZ_interp(B_unperturbed)"
   ]
  },
  {
   "cell_type": "code",
   "execution_count": null,
   "id": "f32e11d7",
   "metadata": {},
   "outputs": [],
   "source": [
    "FLT_A(5.0, 0.0, 0.0)"
   ]
  },
  {
   "cell_type": "code",
   "execution_count": 18,
   "id": "e90e9ff6-d827-4bbf-9ea5-82bfdd1260d7",
   "metadata": {},
   "outputs": [],
   "source": [
    "\n",
    "BRoBPhi_delta_DeltaB = BR_pert ./ BPhi .- BR .* BPhi_pert ./ (BPhi.^2);\n",
    "BRoBPhi_delta_DeltaB_interp = linear_interpolation( (R,Z,Phi), BRoBPhi_delta_DeltaB );\n",
    "BZoBPhi_delta_DeltaB = BZ_pert ./ BPhi .- BZ .* BPhi_pert ./ (BPhi.^2);\n",
    "BZoBPhi_delta_DeltaB_interp = linear_interpolation( (R,Z,Phi), BZoBPhi_delta_DeltaB );\n",
    "@inline RBpoloBPhi_delta_DeltaB(r,z,phi) = r*[BRoBPhi_delta_DeltaB_interp(r,z,phi); BZoBPhi_delta_DeltaB_interp(r,z,phi)];"
   ]
  },
  {
   "cell_type": "code",
   "execution_count": 19,
   "id": "01fdacdd",
   "metadata": {},
   "outputs": [],
   "source": []
  },
  {
   "cell_type": "code",
   "execution_count": null,
   "id": "17b00035",
   "metadata": {},
   "outputs": [],
   "source": [
    "function dXpol_dphi!(dx,x,p,phi)\n",
    "    phimod = mod( phi, 2pi/5 )\n",
    "    dx[1] = x[1] * BR_interp(x[1], x[2], phimod) / BPhi_interp(x[1], x[2], phimod)\n",
    "    dx[2] = x[1] * BZ_interp(x[1], x[2], phimod) / BPhi_interp(x[1], x[2], phimod)\n",
    "end\n"
   ]
  },
  {
   "cell_type": "code",
   "execution_count": null,
   "id": "61fe38a1-47cd-464d-bdad-c4c30593dae3",
   "metadata": {},
   "outputs": [],
   "source": [
    "condition(x,t,integrator) = x[1]>R[end-3] || x[1] < R[3] || x[2] >Z[end-3] || x[2] < Z[3]\n",
    "affect!(integrator) = DE.terminate!(integrator)\n",
    "cb = DE.DiscreteCallback(condition,affect!)"
   ]
  },
  {
   "cell_type": "code",
   "execution_count": 22,
   "id": "15982181-f229-49ab-8ef4-df28a0e5b3e1",
   "metadata": {},
   "outputs": [],
   "source": [
    "roundN = 30.0\n",
    "trajN = 16\n",
    "# x0s = Array{Float64,2}(undef, trajN, 3);\n",
    "# x0s[:,1] = range(6.0, stop=6.0, length=trajN);\n",
    "# x0s[:,2].= 0.0;\n",
    "# x0s[:,3] = range(-0.8, stop=0.8, length=trajN);\n",
    "\n",
    "x0s = Array{Float64,2}(undef, trajN, 2);\n",
    "x0s[:,1] = range(6.2, stop=5.4, length=trajN);\n",
    "x0s[:,2] = range(-0.6, stop=1.0, length=trajN);\n",
    "\n",
    "tspan = (0.0, roundN*2pi)\n",
    "# prob = DE.ODEProblem(FLT_cartesian!, x0s[1,:], tspan)\n",
    "prob = DE.ODEProblem(dXpol_dphi!, x0s[1,:], tspan)\n",
    "\n",
    "function prob_func(prob, i, repeat)\n",
    "    DE.remake(prob, u0=x0s[i,:])\n",
    "end\n",
    "ensemble_prob = DE.EnsembleProblem(prob, prob_func=prob_func)\n",
    "# sol = solve(prob, RK4(), abstol=1e-9, reltol=1e-9, maxiters=1e9, dt=pi/128,) #dt=pi/128, dtmax=pi/128\n",
    "ensemble_sol = DE.solve(\n",
    "    ensemble_prob, DE.RK4(), DE.EnsembleThreads(), trajectories=trajN, \n",
    "    abstol=1e-9, reltol=1e-6, maxiters=1e9, dt=pi/128, callback=cb );"
   ]
  },
  {
   "cell_type": "code",
   "execution_count": null,
   "id": "1c869cf1",
   "metadata": {},
   "outputs": [],
   "source": [
    "import Plots\n",
    "scatxy = reduce( hcat, [ensemble_sol[1](2pi*i) for i in range(0, min( maximum(ensemble_sol[1].t)/2pi, roundN) )] )\n",
    "scatx, scaty = scatxy[1,:], scatxy[2,:]\n",
    "Plots.scatter(scatx, scaty, aspect_ratio=1.0, size=(600,1000), ms=0.2)\n",
    "for traj_i in range(2, trajN-1)\n",
    "    scatxy = reduce( hcat, [ensemble_sol[traj_i](2pi*i) for i in range(0, min( maximum(ensemble_sol[traj_i].t)/2pi, roundN) )] )\n",
    "    scatx, scaty = scatxy[1,:], scatxy[2,:]\n",
    "    Plots.scatter!(scatx, scaty, ms=0.2)\n",
    "end\n",
    "Plots.scatter!()"
   ]
  },
  {
   "cell_type": "code",
   "execution_count": null,
   "id": "b268e076",
   "metadata": {},
   "outputs": [],
   "source": [
    "\n",
    "function dDXpol_dphi(dDXpol,DXpol,p,phi)\n",
    "    phimod = mod( phi, 2pi/5 )\n",
    "    traj_i = p[1]\n",
    "    r,z = ensemble_sol[traj_i](phi)\n",
    "    dDXpol[:,:] = FLT_A(r,z,phimod) * DXpol\n",
    "end"
   ]
  },
  {
   "cell_type": "code",
   "execution_count": null,
   "id": "3b4a03b6",
   "metadata": {},
   "outputs": [],
   "source": [
    "\n",
    "prob_DXpol = DE.ODEProblem(dDXpol_dphi, [1 0; 0 1], tspan, [0])\n",
    "function prob_func_DXpol(prob, i, repeat)\n",
    "    DE.remake(prob, tspan=[0.0, maximum(ensemble_sol[i].t) ], p=[i] )\n",
    "end\n",
    "ensemble_prob_DXpol = DE.EnsembleProblem(prob_DXpol, prob_func=prob_func_DXpol)\n",
    "# sol = solve(prob, RK4(), abstol=1e-9, reltol=1e-9, maxiters=1e9, dt=pi/128,) #dt=pi/128, dtmax=pi/128\n",
    "ensemble_sol_DXpol = DE.solve(\n",
    "    ensemble_prob_DXpol, DE.RK4(), DE.EnsembleThreads(), trajectories=trajN, \n",
    "    abstol=1e-9, reltol=1e-6, maxiters=1e9, dt=pi/128, )"
   ]
  },
  {
   "cell_type": "code",
   "execution_count": 26,
   "id": "a9ceacd7-caa4-4ea0-86b7-dc63ac9ad180",
   "metadata": {},
   "outputs": [],
   "source": [
    "import DifferentialEquations as DE\n",
    "import LinearAlgebra as LA\n",
    "\n",
    "\n",
    "# function dDXpol_dphi!(dDXpol,DXpol,p,phi)\n",
    "#     phimod = mod( phi, 2pi/5 )\n",
    "#     sol_Xpol, = p\n",
    "#     r,z = sol_Xpol(phi)\n",
    "#     dDXpol[:,:] = FLT_A(r,z,phimod) * DXpol\n",
    "# end\n",
    "\n",
    "# function lookfor_cycle(Bfield, init_rzphi, tor_turn=1, h=0.98, delta_threshold=1e-5)\n",
    "#     phi = init_rzphi[3]\n",
    "#     tspan = (phi, phi + tor_turn*2pi)\n",
    "#     x0rz = init_rzphi[1:2]\n",
    "    \n",
    "#     while true\n",
    "#         _prob_Xpol = DE.ODEProblem(dXpol_dphi!, x0rz, tspan)\n",
    "#         _sol_Xpol = DE.solve(_prob_Xpol, DE.RK4(), \n",
    "#             abstol=1e-9, reltol=1e-6, maxiters=1e9, dt=pi/128, callback=cb) \n",
    "        \n",
    "#         _prob_DXpol = DE.ODEProblem(dDXpol_dphi!_generator(sols_dict), [1 0; 0 1], tspan)\n",
    "        \n",
    "#         _sol_DXpol = DE.solve(_prob_DXpol, DE.RK4(), \n",
    "#             abstol=1e-9, reltol=1e-6, maxiters=1e9, dt=pi/128,)\n",
    "        \n",
    "#         delta =  - h * LA.inv(_sol_DXpol(phi + tor_turn*2pi) - LA.I(2) ) * (_sol_Xpol(phi + tor_turn*2pi) - x0rz) \n",
    "#         x0rz += delta\n",
    "#         # println(x0rz)\n",
    "#         if LA.norm(delta) < delta_threshold\n",
    "#             break\n",
    "#         end\n",
    "#     end\n",
    "#     return push!(x0rz, phi)\n",
    "# end"
   ]
  },
  {
   "cell_type": "code",
   "execution_count": null,
   "id": "2342e333-9dd5-4728-8bc2-9c10b995f0aa",
   "metadata": {
    "scrolled": true
   },
   "outputs": [],
   "source": [
    "\n",
    "cyc_init_rzphi = lookfor_cycle(B_unperturbed, [6.05; 0.6; 0.0])\n",
    "# cyc_init_rzphi = lookfor_cycle(0.0, [6.05;-0.6; 0.0])\n",
    "# cyc_init_rzphi = lookfor_cycle(0.0, [5.5; 0.8; 0.0])\n",
    "# cyc_init_rzphi = lookfor_cycle(0.0, [5.5;-0.8; 0.0])\n",
    "# cyc_init_rzphi = lookfor_cycle(0.0, [5.7; 0.0; 0.0])"
   ]
  },
  {
   "cell_type": "code",
   "execution_count": null,
   "id": "86914c3a-a3d4-4458-8e26-4d2b729cd53c",
   "metadata": {
    "scrolled": true
   },
   "outputs": [],
   "source": [
    "phi = cyc_init_rzphi[3]\n",
    "tor_turn = 1\n",
    "tspan = (phi, phi + tor_turn*2pi)\n",
    "\n",
    "sols_dict = get_tracing_sols(B_unperturbed, cyc_init_rzphi[1:2], cyc_init_rzphi[3])\n",
    "\n",
    "prob_Xpol = DE.ODEProblem(dXpol_dphi!_generator(sols_dict), cyc_init_rzphi[1:2], tspan)\n",
    "sol_Xpol = DE.solve(prob_Xpol, DE.RK4(), \n",
    "    abstol=1e-9, reltol=1e-6, maxiters=1e9, dt=pi/128, callback=cb) \n",
    "sols_dict[\"sol_Xpol\"] = sol_Xpol\n",
    "\n",
    "prob_DXpol = DE.ODEProblem(dDXpol_dphi!_generator(sols_dict), [1 0; 0 1], tspan)\n",
    "# prob_DXpol = DE.ODEProblem(dDXpol_dphi!, [1 0; 0 1], tspan, [sol_Xpol,])\n",
    "sol_DXpol = DE.solve(prob_DXpol, DE.RK4(), \n",
    "    abstol=1e-9, reltol=1e-6, maxiters=1e9, dt=pi/128,)\n",
    "sols_dict[\"sol_DXpol\"] = sol_DXpol"
   ]
  },
  {
   "cell_type": "code",
   "execution_count": null,
   "id": "b20c24c9-c9fb-4309-807d-6ff46d191e30",
   "metadata": {
    "scrolled": true
   },
   "outputs": [],
   "source": [
    "# function dDPm_dphi!(dDPm,DPm,p,phi)\n",
    "#     phimod = mod( phi, 2pi/5 )\n",
    "#     sol_Xpol, = p\n",
    "#     r,z = sol_Xpol(phi)\n",
    "#     dDPm[:,:] = FLT_A(r,z,phimod) * DPm - DPm * FLT_A(r,z,phimod) \n",
    "# end\n",
    "\n",
    "\n",
    "\n",
    "prob_DPm = DE.ODEProblem(dDPm_dphi!_generator(sols_dict), sol_DXpol(tspan[2]), tspan,)\n",
    "sol_DPm = DE.solve(prob_DPm, DE.RK4(), \n",
    "    abstol=1e-9, reltol=1e-6, maxiters=1e9, dt=pi/128,)"
   ]
  },
  {
   "cell_type": "code",
   "execution_count": null,
   "id": "63567c70-ec72-4e8d-a4fc-f75db202ee1c",
   "metadata": {
    "scrolled": true
   },
   "outputs": [],
   "source": [
    "function dXpol_delta_dphi!(dXpol_delta, Xpol_delta, p, phi)\n",
    "    phimod = mod( phi, 2pi/5 )\n",
    "    sol_Xpol, = p\n",
    "    r,z = sol_Xpol(phi)\n",
    "    dXpol_delta[:] = FLT_A(r,z,phimod) * Xpol_delta + RBpoloBPhi_delta_DeltaB(r,z,phimod) \n",
    "end\n",
    "\n",
    "prob_Xpol_delta = DE.ODEProblem(dXpol_delta_dphi!, [0;0], tspan, [sol_Xpol,])\n",
    "sol_Xpol_delta = DE.solve(prob_Xpol_delta, DE.RK4(), \n",
    "    abstol=1e-9, reltol=1e-6, maxiters=1e9, dt=pi/128,)"
   ]
  },
  {
   "cell_type": "code",
   "execution_count": null,
   "id": "38236b0f-7679-480b-aa92-e1a4eedd0d81",
   "metadata": {},
   "outputs": [],
   "source": [
    "Xcyc_init_delta_Delta = LA.inv( sol_DPm(phi) - LA.I(2) ) * (- sol_Xpol_delta(2pi) )"
   ]
  },
  {
   "cell_type": "code",
   "execution_count": null,
   "id": "88093b6a-249a-4e9e-b07a-d06811ae695d",
   "metadata": {
    "scrolled": true
   },
   "outputs": [],
   "source": [
    "dXcyc_delta_dphi! = dXpol_delta_dphi!\n",
    "\n",
    "prob_Xcyc_delta = DE.ODEProblem(dXcyc_delta_dphi!, Xcyc_init_delta_Delta, tspan, [sol_Xpol,])\n",
    "sol_Xcyc_delta = DE.solve(prob_Xcyc_delta, DE.RK4(), \n",
    "    abstol=1e-9, reltol=1e-6, maxiters=1e9, dt=pi/128,)"
   ]
  },
  {
   "cell_type": "code",
   "execution_count": null,
   "id": "3ea13b21-735b-4a37-9bff-f2205b988b41",
   "metadata": {},
   "outputs": [],
   "source": [
    "using Plots\n",
    "plot(sol_Xcyc_delta)"
   ]
  },
  {
   "cell_type": "code",
   "execution_count": null,
   "id": "a0e2fe23-e532-492b-bfcb-128ed3ece7cd",
   "metadata": {},
   "outputs": [],
   "source": [
    "# RBRoBPhi_pR2 = pRpZ_interp(RBRoBPhi,2,0);\n",
    "# RBRoBPhi_pRpZ = pRpZ_interp(RBRoBPhi,1,1);\n",
    "# RBRoBPhi_pZ2 = pRpZ_interp(RBRoBPhi,0,2);\n",
    "# RBZoBPhi_pR2 = pRpZ_interp(RBZoBPhi,2,0); \n",
    "# RBZoBPhi_pRpZ = pRpZ_interp(RBZoBPhi,1,1);\n",
    "# RBZoBPhi_pZ2 = pRpZ_interp(RBZoBPhi,0,2);\n",
    "RBRoBPhi_pR2  = linear_interpolation( (R,Z,Phi), 2*pRpZ(BR./BPhi,1,0,R,Z) + R.*pRpZ(BR./BPhi,2,0,R,Z) );\n",
    "RBRoBPhi_pRpZ = linear_interpolation( (R,Z,Phi),   pRpZ(BR./BPhi,0,1,R,Z) + R.*pRpZ(BR./BPhi,1,1,R,Z) );\n",
    "RBRoBPhi_pZ2  = linear_interpolation( (R,Z,Phi),                            R.*pRpZ(BR./BPhi,0,2,R,Z) );\n",
    "RBZoBPhi_pR2  = linear_interpolation( (R,Z,Phi), 2*pRpZ(BZ./BPhi,1,0,R,Z) + R.*pRpZ(BZ./BPhi,2,0,R,Z) );\n",
    "RBZoBPhi_pRpZ = linear_interpolation( (R,Z,Phi),   pRpZ(BZ./BPhi,0,1,R,Z) + R.*pRpZ(BZ./BPhi,1,1,R,Z) );\n",
    "RBZoBPhi_pZ2  = linear_interpolation( (R,Z,Phi),                            R.*pRpZ(BZ./BPhi,0,2,R,Z) );\n",
    "@inline A_dirderivative(r,z,phi,dir_r,dir_z) = [ \n",
    "    RBRoBPhi_pR2(r,z,phi) * dir_r + RBRoBPhi_pRpZ(r,z,phi) * dir_z       RBRoBPhi_pRpZ(r,z,phi) * dir_r + RBRoBPhi_pZ2(r,z,phi)  * dir_z; \n",
    "    RBZoBPhi_pR2(r,z,phi) * dir_r + RBZoBPhi_pRpZ(r,z,phi) * dir_z       RBZoBPhi_pRpZ(r,z,phi) * dir_r + RBZoBPhi_pZ2(r,z,phi)  * dir_z]"
   ]
  },
  {
   "cell_type": "code",
   "execution_count": null,
   "id": "907cf27b-a8b5-44ef-82a0-4e85402d75f5",
   "metadata": {},
   "outputs": [],
   "source": [
    "# plot(sol_Xcyc_delta)\n",
    "# plot(sol_DXpol)\n",
    "\n",
    "plot( [prod(LA.eigvals(sol_DPm(phi)) ) for phi in 0.0:2pi/100:2pi] )\n",
    "# plot( [prod(LA.eigvals(sol_DXpol(phi)) ) for phi in 0.0:2pi/100:2pi] )"
   ]
  },
  {
   "cell_type": "code",
   "execution_count": null,
   "id": "30e7a2ee-1b6d-40b2-8db1-9b877cb297bc",
   "metadata": {
    "scrolled": true
   },
   "outputs": [],
   "source": [
    "A_delta_DeltaB = RVpoloVPhi_pRpZ_delta_v_pert_interp(B_unperturbed, B_pert)\n",
    "\n",
    "function dXpol_delta_dphi!(dXpol_delta, Xpol_delta, p, phi)\n",
    "    phimod = mod( phi, 2pi/5 )\n",
    "    sol_Xpol, sol_DXpol, sol_Xcyc_delta = p\n",
    "    r,z = sol_Xpol(phi)\n",
    "    dr, dz = sol_Xcyc_delta(phi)\n",
    "    # println( A_delta_DeltaB(r,z,phimod)  )\n",
    "    # println( A_dirderivative(r,z,phimod,dr,dz) ) \n",
    "    dXpol_delta[:,:] = (A_delta_DeltaB(r,z,phimod) + A_dirderivative(r,z,phimod,dr,dz) ) * sol_DXpol(phi) + FLT_A(r,z,phimod) * Xpol_delta\n",
    "end\n",
    "\n",
    "\n",
    "prob_Xpol_delta = DE.ODEProblem(dXpol_delta_dphi!, zeros(2,2), tspan, [sol_Xpol, sol_DXpol, sol_Xcyc_delta])\n",
    "sol_Xpol_delta = DE.solve(prob_Xpol_delta, DE.RK4(), \n",
    "    abstol=1e-9, reltol=1e-6, maxiters=1e9, dt=pi/128,)"
   ]
  },
  {
   "cell_type": "code",
   "execution_count": 37,
   "id": "000b7059-0f29-4657-b78f-de83f00926a7",
   "metadata": {},
   "outputs": [],
   "source": []
  },
  {
   "cell_type": "code",
   "execution_count": null,
   "id": "a347b179-4135-4975-bb59-c36dbcba29f6",
   "metadata": {},
   "outputs": [],
   "source": [
    "using Plots\n",
    "# plot(LA.eigvals(sol_DPm))\n",
    "# plot(sol_DXpol)\n",
    "plot(sol_Xpol_delta)"
   ]
  },
  {
   "cell_type": "code",
   "execution_count": null,
   "id": "cb1a38f8-a72c-4f86-b935-55bbcb562d12",
   "metadata": {
    "scrolled": true
   },
   "outputs": [],
   "source": [
    "function dDPm_delta_dphi!(dDPm_delta, DPm_delta, p, phi)\n",
    "    phimod = mod( phi, 2pi/5 )\n",
    "    sol_Xpol, sol_DPm, sol_Xcyc_delta = p\n",
    "    r,z = sol_Xpol(phi)\n",
    "    dr, dz = sol_Xcyc_delta(phi)\n",
    "    dDPm_delta[:,:] = (\n",
    "        (A_delta_DeltaB(r,z,phimod) + A_dirderivative(r,z,phimod,dr,dz) ) * sol_DPm(phi) \n",
    "        - sol_DPm(phi) * (A_delta_DeltaB(r,z,phimod) + A_dirderivative(r,z,phimod,dr,dz) ) \n",
    "        + FLT_A(r,z,phimod) * DPm_delta \n",
    "        - DPm_delta * FLT_A(r,z,phimod)\n",
    "    )\n",
    "    # println(   FLT_A(r,z,phimod) * DPm_delta_DeltaB   )\n",
    "end\n",
    "\n",
    "prob_DPm_delta_DeltaB = DE.ODEProblem(dDPm_delta_dphi!, sol_Xpol_delta(tspan[2]), tspan, [sol_Xpol, sol_DPm, sol_Xcyc_delta])\n",
    "sol_DPm_Delta = DE.solve(prob_DPm_delta_DeltaB, DE.RK4(), \n",
    "    abstol=1e-9, reltol=1e-6, maxiters=1e9, dt=pi/128/2,);"
   ]
  },
  {
   "cell_type": "code",
   "execution_count": null,
   "id": "8e1e6246-b271-46b4-aa7a-eb3caf6fbb3f",
   "metadata": {},
   "outputs": [],
   "source": [
    "plot(sol_DPm_Delta)"
   ]
  },
  {
   "cell_type": "code",
   "execution_count": null,
   "id": "634ed292-ce93-4395-abe2-9d7c018e3595",
   "metadata": {},
   "outputs": [],
   "source": [
    "sol_DPm_Delta(0.0)"
   ]
  },
  {
   "cell_type": "code",
   "execution_count": null,
   "id": "b44c082d-da22-41ea-b5ab-ecab949e46b0",
   "metadata": {},
   "outputs": [],
   "source": [
    "sol_DPm_Delta(2pi)"
   ]
  },
  {
   "cell_type": "code",
   "execution_count": null,
   "id": "41d4e071-7151-4299-a1a0-9ff261b8ed4b",
   "metadata": {},
   "outputs": [],
   "source": [
    "plot()\n",
    "for i in 0.0:0.02:1\n",
    "    plot!([ prod(\n",
    "            LA.eigvals(sol_DPm(2pi*i) + len * sol_DPm_Delta(2pi*i)  )\n",
    "        ) for len in -2.5:0.001:2.5] )\n",
    "end\n",
    "plot!()"
   ]
  },
  {
   "cell_type": "code",
   "execution_count": null,
   "id": "d3391c32-a1fd-4f61-b2f8-bbc829e49ba0",
   "metadata": {},
   "outputs": [],
   "source": [
    "plot()\n",
    "\n",
    "plot!(\n",
    "    [2pi*phifrac for phifrac in 0.0:0.02:1],\n",
    "    [LA.eigvals(sol_DPm(2pi* phifrac) )[1] for phifrac in 0.0:0.02:1]\n",
    ")\n",
    "plot!(\n",
    "    [2pi*phifrac for phifrac in 0.0:0.02:1],\n",
    "    [LA.eigvals(sol_DPm(2pi* phifrac) )[2] for phifrac in 0.0:0.02:1]\n",
    ")   \n",
    "    \n",
    "plot!(\n",
    "    [2pi*phifrac for phifrac in 0.0:0.02:1],\n",
    "    [LA.eigvals( sol_DPm(2pi* phifrac) + sol_DPm_Delta(2pi*phifrac)  )[1] - LA.eigvals(sol_DPm(2pi* phifrac) )[1] for phifrac in 0.0:0.02:1]\n",
    ")\n",
    "plot!(\n",
    "    [2pi*phifrac for phifrac in 0.0:0.02:1],\n",
    "    [LA.eigvals( sol_DPm(2pi* phifrac) + sol_DPm_Delta(2pi*phifrac)  )[2] - LA.eigvals(sol_DPm(2pi* phifrac) )[2] for phifrac in 0.0:0.02:1]\n",
    ")   \n",
    "    \n",
    "plot!()"
   ]
  },
  {
   "cell_type": "code",
   "execution_count": 45,
   "id": "10ebc8a8-7467-4bc9-8c64-edcc25a9900e",
   "metadata": {},
   "outputs": [],
   "source": []
  },
  {
   "cell_type": "code",
   "execution_count": 46,
   "id": "0a48c903-222a-4518-a430-0b7ba5caff49",
   "metadata": {},
   "outputs": [],
   "source": []
  },
  {
   "cell_type": "code",
   "execution_count": null,
   "id": "8f06feab-0892-4389-9984-871b13054284",
   "metadata": {},
   "outputs": [],
   "source": [
    "\n",
    "VectorMatrix2Array(sol_DPm.u)[1,:,:]"
   ]
  },
  {
   "cell_type": "code",
   "execution_count": null,
   "id": "57a836df-3384-4e0d-acf5-1b3378274fe6",
   "metadata": {},
   "outputs": [],
   "source": [
    "using HDF5\n",
    "h5open(datapath * \"w7x_standard_cycle1.h5\", \"w\") do fid\n",
    "    g = create_group(fid, \"cyc\")\n",
    "    g[\"t_Xpol\"] = sol_Xpol.t\n",
    "    g[  \"Xpol\"] = VectorVector2Array(sol_Xpol.u)\n",
    "    g[\"t_DXpol\"] = sol_DXpol.t\n",
    "    g[  \"DXpol\"] = VectorMatrix2Array(sol_DXpol.u)\n",
    "    g[\"t_DPm\"] = sol_DPm.t\n",
    "    g[  \"DPm\"] = VectorMatrix2Array(sol_DPm.u)\n",
    "    g[\"t_Xpol_delta\"] = sol_Xpol_delta.t\n",
    "    g[  \"Xpol_delta\"] = VectorMatrix2Array(sol_Xpol_delta.u)\n",
    "    g[\"t_Xcyc_delta\"] = sol_Xcyc_delta.t\n",
    "    g[  \"Xcyc_delta\"] = VectorVector2Array(sol_Xcyc_delta.u)\n",
    "    g[\"t_DPm_Delta\"] = sol_DPm_Delta.t\n",
    "    g[  \"DPm_Delta\"] = VectorMatrix2Array(sol_DPm_Delta.u)\n",
    "end;"
   ]
  },
  {
   "cell_type": "code",
   "execution_count": 49,
   "id": "951c4f4a-16c7-4815-9fb7-cb9dfccaba78",
   "metadata": {},
   "outputs": [],
   "source": [
    "\n",
    "using HDF5\n",
    "h5open(datapath * \"w7x_standard_phi_0_rad_Poincare.h5\", \"w\") do fid\n",
    "    for traj_i in range(2, trajN-1)\n",
    "        scatxy = reduce( hcat, [ensemble_sol[traj_i](2pi*i) for i in range(0, floor(ensemble_sol[traj_i].t[end]/2pi) ) ] )\n",
    "        fid[\"traj_$traj_i\"] = permutedims(scatxy)\n",
    "    end;\n",
    "end;\n",
    "\n",
    "h5open(datapath * \"w7x_standard_phi_2pio20_rad_Poincare.h5\", \"w\") do fid\n",
    "    for traj_i in range(2, trajN-1)\n",
    "        scatxy = reduce( hcat, [ensemble_sol[traj_i](2pi/20 + 2pi*i) for i in range(0, floor( (ensemble_sol[traj_i].t[end] - 2pi/20 )/2pi) ) ] )\n",
    "        fid[\"traj_$traj_i\"] = permutedims(scatxy)\n",
    "    end;\n",
    "end;\n",
    "\n",
    "h5open(datapath * \"w7x_standard_phi_2pio10_rad_Poincare.h5\", \"w\") do fid\n",
    "    for traj_i in range(2, trajN-1)\n",
    "        scatxy = reduce( hcat, [ensemble_sol[traj_i](2pi/10 + 2pi*i) for i in range(0, floor( (ensemble_sol[traj_i].t[end] - 2pi/10 )/2pi) ) ] )\n",
    "        fid[\"traj_$traj_i\"] = permutedims(scatxy)\n",
    "    end;\n",
    "end;\n",
    "\n",
    "h5open(datapath * \"w7x_standard_phi_6pio20_rad_Poincare.h5\", \"w\") do fid\n",
    "    for traj_i in range(2, trajN-1)\n",
    "        scatxy = reduce( hcat, [ensemble_sol[traj_i](6pi/20 + 2pi*i) for i in range(0, floor( (ensemble_sol[traj_i].t[end] - 6pi/20 )/2pi) ) ] )\n",
    "        fid[\"traj_$traj_i\"] = permutedims(scatxy)\n",
    "    end;\n",
    "end;\n",
    "\n"
   ]
  },
  {
   "cell_type": "code",
   "execution_count": 50,
   "id": "e0da2d06-7780-41ca-bb58-921fb838448c",
   "metadata": {},
   "outputs": [],
   "source": []
  },
  {
   "cell_type": "code",
   "execution_count": 51,
   "id": "e8b07a54-681d-412b-aeea-27abae3efb5b",
   "metadata": {},
   "outputs": [],
   "source": []
  },
  {
   "cell_type": "code",
   "execution_count": 52,
   "id": "fd68ec71-524a-4d16-8507-5395d451f77c",
   "metadata": {},
   "outputs": [],
   "source": []
  },
  {
   "cell_type": "code",
   "execution_count": 53,
   "id": "1c28dd09-3b72-4a8f-98ea-093bb930e96b",
   "metadata": {},
   "outputs": [],
   "source": [
    "# NPZ support for multidimensional array lacks\n",
    "using NPZ\n",
    "\n",
    "dict_to_store = Dict{String, AbstractArray}();\n",
    "\n",
    "dict_to_store[\"t_Xpol\"] = sol_Xpol.t;\n",
    "dict_to_store[\"Xpol\"] = VectorVector2Array(sol_Xpol.u);\n",
    "# dict_to_store[\"Xpol_delta\"] = VectorVector2Array(sol_Xcyc_delta.u);\n",
    "npzwrite(\"w7x_standard_cycle1.npz\", dict_to_store);\n",
    "# \"t_DXpol\" => sol_DXpol.t, \"DXpol\" => VectorMatrix2Array(sol_DXpol.u),\n",
    "# \"t_DPm\" => sol_DPm.t, \"DPm\" => VectorMatrix2Array(sol_DPm.u),\n",
    "# \"t_Xpol_delta\" => sol_Xcyc_delta.t, \"Xpol_delta\" => VectorVector2Array(sol_Xcyc_delta.u),\n",
    "# \"t_Xpol_delta\" => sol_Xpol_delta.t, \"Xpol_delta\" => VectorMatrix2Array(sol_Xpol_delta.u),\n",
    "# \"t_DPm_delta_DeltaB\" => sol_DPm_delta.t, \"DPm_delta_DeltaB\" => VectorMatrix2Array(sol_DPm_delta.u)\n"
   ]
  },
  {
   "cell_type": "code",
   "execution_count": null,
   "id": "ba054a33",
   "metadata": {},
   "outputs": [],
   "source": [
    "import LinearAlgebra as LA\n",
    "using Plots\n",
    "\n",
    "for traj_i = 1:1\n",
    "    DXpol_Phi = ensemble_sol_DXpol[traj_i].t[1:10:end]\n",
    "    DXpol_eigvals = reduce(vcat, [LA.eigvals(DXpol)' for DXpol in ensemble_sol_DXpol[traj_i].u[1:10:end] ] )\n",
    "    plot(DXpol_Phi, DXpol_eigvals)\n",
    "end"
   ]
  },
  {
   "cell_type": "code",
   "execution_count": null,
   "id": "de6eb3bc",
   "metadata": {},
   "outputs": [],
   "source": [
    "import LinearAlgebra as LA\n",
    "using Plots\n",
    "traj_i = 12\n",
    "roundN_todraw = 500\n",
    "\n",
    "DXpol_eigvals = reduce(vcat, [LA.eigvals(ensemble_sol_DXpol[traj_i](2pi*i))'  for i in range(0,roundN_todraw)] )\n",
    "scatter( range(0,roundN_todraw), abs.(DXpol_eigvals[:,1]), labels=\"abs(λ1)\")\n",
    "scatter!( range(0,roundN_todraw), abs.(DXpol_eigvals[:,2]), labels=\"abs(λ2)\" )\n",
    "\n",
    "    "
   ]
  },
  {
   "cell_type": "code",
   "execution_count": 56,
   "id": "333e980a",
   "metadata": {},
   "outputs": [],
   "source": [
    "using NPZ\n",
    "orb_dict = Dict{String, AbstractArray}()\n",
    "for traj_i in range(1, trajN)\n",
    "#     scatRZPhi = hcat( reduce( hcat, [ensemble_sol[traj_i](2pi*i) for i in range(0, roundN)] )', [2pi*i for i in range(0, roundN) ] )\n",
    "#     println(size(scatRZPhi))\n",
    "    orb_dict[string(traj_i)] = hcat( reduce( hcat, [ensemble_sol[traj_i](2pi*i) for i in range(0, roundN)] )', [2pi*i for i in range(0, roundN) ] )\n",
    "#     Plots.scatter!(scatx, scaty)\n",
    "end\n",
    "\n",
    "npzwrite(\"w7x_standard_phi_0_Poincare_orbits.npz\", orb_dict )"
   ]
  },
  {
   "cell_type": "code",
   "execution_count": 57,
   "id": "19d950f0",
   "metadata": {},
   "outputs": [],
   "source": []
  },
  {
   "cell_type": "code",
   "execution_count": 58,
   "id": "43cae668",
   "metadata": {},
   "outputs": [],
   "source": [
    "using CSV, DataFrames\n",
    "\n",
    "for traj_i in range(1, trajN)\n",
    "    orb_filename = datapath * \"w7x_standard_\" * string(traj_i) * \".csv\"\n",
    "    touch(orb_filename)\n",
    "    file_handle = open(orb_filename, \"w\")\n",
    "    scatRZ = reduce( hcat, [ensemble_sol[traj_i](2pi*i) for i in range(0, roundN)] )\n",
    "    scatR, scatZ = scatRZ[1,:], scatRZ[2,:]\n",
    "    CSV.write(orb_filename, DataFrame(R = scatR, Z = scatZ, Phi = [2pi*i for i in range(0, roundN)] ) )\n",
    "end\n",
    "\n",
    "\n"
   ]
  },
  {
   "cell_type": "code",
   "execution_count": null,
   "id": "a8f8fdfd",
   "metadata": {},
   "outputs": [],
   "source": [
    "npzwritearray(npzfile_orb,  hcat( reduce( hcat, [ensemble_sol[1](2pi*i) for i in range(0, 20)] )', [2pi*i for i in range(0, 20) ] )  )"
   ]
  },
  {
   "cell_type": "code",
   "execution_count": null,
   "id": "9ce247c7-4510-414a-8cec-633055286bbe",
   "metadata": {},
   "outputs": [],
   "source": [
    "reduce( hcat, [ensemble_sol[1](2pi*i) for i in range(0, roundN)] )"
   ]
  },
  {
   "cell_type": "code",
   "execution_count": 61,
   "id": "5be4fd32",
   "metadata": {},
   "outputs": [],
   "source": []
  }
 ],
 "metadata": {
  "kernelspec": {
   "display_name": "Julia 1.10.5",
   "language": "julia",
   "name": "julia-1.10"
  },
  "language_info": {
   "file_extension": ".jl",
   "mimetype": "application/julia",
   "name": "julia",
   "version": "1.10.5"
  }
 },
 "nbformat": 4,
 "nbformat_minor": 5
}
